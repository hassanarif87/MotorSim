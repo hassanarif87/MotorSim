{
 "cells": [
  {
   "cell_type": "code",
   "execution_count": null,
   "metadata": {},
   "outputs": [],
   "source": [
    "import control as ct\n",
    "import numpy as np\n",
    "from models.systems import build_simple_pmsm_plant\n",
    "from utils.plotting import plot\n",
    "\n"
   ]
  },
  {
   "cell_type": "code",
   "execution_count": null,
   "metadata": {},
   "outputs": [],
   "source": [
    "params = {\n",
    "    \"R\": 0.275,\n",
    "    \"L\": 0.090,\n",
    "    \"ke\": 0.0900,\n",
    "    \"i_quadrature_max\": 10.8,\n",
    "    \"i_quadrature_nominal\": 3.6,\n",
    "    \"np\": 28,\n",
    "    \"U\": 48,\n",
    "    \"reduction_ratio\": 8\n",
    " }\n",
    "\n",
    "\n",
    "plant = build_simple_pmsm_plant(params)"
   ]
  },
  {
   "cell_type": "code",
   "execution_count": null,
   "metadata": {},
   "outputs": [],
   "source": [
    "times = np.arange(0, 5, 0.001)   # Simulation time\n",
    "X0 = [0., 0.]  # i , omega \n",
    "u0 = [4, 0]  # current command, load "
   ]
  },
  {
   "cell_type": "code",
   "execution_count": null,
   "metadata": {},
   "outputs": [],
   "source": [
    "\n",
    "t, y = ct.input_output_response(plant, times, u0, X0)\n"
   ]
  },
  {
   "cell_type": "code",
   "execution_count": null,
   "metadata": {},
   "outputs": [],
   "source": [
    "plot(t, [y[1]])"
   ]
  },
  {
   "cell_type": "code",
   "execution_count": null,
   "metadata": {},
   "outputs": [],
   "source": [
    "plot(t, y[0])"
   ]
  }
 ],
 "metadata": {
  "kernelspec": {
   "display_name": "motorsim-sKStCsUL-py3.10",
   "language": "python",
   "name": "python3"
  },
  "language_info": {
   "codemirror_mode": {
    "name": "ipython",
    "version": 3
   },
   "file_extension": ".py",
   "mimetype": "text/x-python",
   "name": "python",
   "nbconvert_exporter": "python",
   "pygments_lexer": "ipython3",
   "version": "3.10.12"
  }
 },
 "nbformat": 4,
 "nbformat_minor": 2
}
