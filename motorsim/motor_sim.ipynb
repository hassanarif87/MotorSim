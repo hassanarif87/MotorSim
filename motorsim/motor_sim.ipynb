{
 "cells": [
  {
   "cell_type": "code",
   "execution_count": null,
   "metadata": {},
   "outputs": [],
   "source": [
    "import control as ct\n",
    "import numpy as np\n",
    "from models.systems import build_dc_plant\n",
    "from utils.plotting import plot\n",
    "\n"
   ]
  },
  {
   "cell_type": "code",
   "execution_count": null,
   "metadata": {},
   "outputs": [],
   "source": [
    "dcmotor_params =dict(\n",
    "    source=\"https://www2.ece.ohio-state.edu/~passino/lab2_rotary_dynamics.pdf\",\n",
    "    Kt = 0.00767,\n",
    "    v_dc = 10,\n",
    "    Lm = 0.1e-3,\n",
    "    Rm=2.6,\n",
    "    J=3.0e-7,\n",
    "    b=0\n",
    ")"
   ]
  },
  {
   "cell_type": "code",
   "execution_count": null,
   "metadata": {},
   "outputs": [],
   "source": [
    "dc_plant = build_dc_plant(dcmotor_params)"
   ]
  },
  {
   "cell_type": "code",
   "execution_count": null,
   "metadata": {},
   "outputs": [],
   "source": [
    "times = np.arange(0, 5, 0.001)   # Simulation time\n",
    "X0 = [0., 0.]  # i , omega \n",
    "u0 = [0.8, 0]  # current command, load "
   ]
  },
  {
   "cell_type": "code",
   "execution_count": null,
   "metadata": {},
   "outputs": [],
   "source": [
    "\n",
    "t, y = ct.input_output_response(dc_plant, times, u0, X0)\n"
   ]
  },
  {
   "cell_type": "code",
   "execution_count": null,
   "metadata": {},
   "outputs": [],
   "source": [
    "plot(t, [y[1]])"
   ]
  },
  {
   "cell_type": "code",
   "execution_count": null,
   "metadata": {},
   "outputs": [],
   "source": [
    "plot(t, y[0])"
   ]
  }
 ],
 "metadata": {
  "kernelspec": {
   "display_name": "motorsim-sKStCsUL-py3.10",
   "language": "python",
   "name": "python3"
  },
  "language_info": {
   "codemirror_mode": {
    "name": "ipython",
    "version": 3
   },
   "file_extension": ".py",
   "mimetype": "text/x-python",
   "name": "python",
   "nbconvert_exporter": "python",
   "pygments_lexer": "ipython3",
   "version": "3.10.12"
  }
 },
 "nbformat": 4,
 "nbformat_minor": 2
}
